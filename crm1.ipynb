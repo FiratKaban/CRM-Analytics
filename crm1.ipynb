{
 "cells": [
  {
   "cell_type": "code",
   "execution_count": 1,
   "id": "adafdbff",
   "metadata": {},
   "outputs": [],
   "source": [
    "import datetime as dt\n",
    "import pandas as pd\n",
    "from sklearn.preprocessing import MinMaxScaler\n",
    "from lifetimes import BetaGeoFitter\n",
    "from lifetimes import GammaGammaFitter\n",
    "# Çıktıda tüm sütun ve satırları gözlemlemek için;\n",
    "pd.set_option('display.max_columns', None)\n",
    "pd.set_option('display.max_rows', None)\n",
    "\n",
    "# Çıktıda sütunların alta kaymasını engellemek için sütunları yan yana getireceğimiz kod.\n",
    "pd.set_option('display.expand_frame_repr', False)\n",
    "\n",
    "# Veri Setini okuma işlemlerini gerçekleştiriyoruz. Projede 2010-2011 yılına ait verileri kullanacağız.\n",
    "df_ = pd.read_excel(\"/online_retail_II.xlsx\", sheet_name=\"Year 2010-2011\")"
   ]
  }
 ],
 "metadata": {
  "kernelspec": {
   "display_name": "Python 3 (ipykernel)",
   "language": "python",
   "name": "python3"
  },
  "language_info": {
   "codemirror_mode": {
    "name": "ipython",
    "version": 3
   },
   "file_extension": ".py",
   "mimetype": "text/x-python",
   "name": "python",
   "nbconvert_exporter": "python",
   "pygments_lexer": "ipython3",
   "version": "3.9.13"
  }
 },
 "nbformat": 4,
 "nbformat_minor": 5
}
